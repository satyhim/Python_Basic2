{
  "nbformat": 4,
  "nbformat_minor": 0,
  "metadata": {
    "colab": {
      "name": "Copy of Untitled26.ipynb",
      "provenance": [],
      "authorship_tag": "ABX9TyO6lxJ4q5z1dtcUEAxoWxGw",
      "include_colab_link": true
    },
    "kernelspec": {
      "name": "python3",
      "display_name": "Python 3"
    },
    "language_info": {
      "name": "python"
    }
  },
  "cells": [
    {
      "cell_type": "markdown",
      "metadata": {
        "id": "view-in-github",
        "colab_type": "text"
      },
      "source": [
        "<a href=\"https://colab.research.google.com/github/satyhim/Python_Basic2/blob/main/7_Python_Basic_Numpy1.ipynb\" target=\"_parent\"><img src=\"https://colab.research.google.com/assets/colab-badge.svg\" alt=\"Open In Colab\"/></a>"
      ]
    },
    {
      "cell_type": "markdown",
      "source": [
        "#What is NumPy\n",
        "\n",
        "NumPy stands for numeric python which is a python package for the computation and processing of the multidimensional and single dimensional array elements.\n",
        "\n",
        "NumPy provides a convenient and efficient way to handle the vast amount of data. NumPy is also very convenient with Matrix multiplication and data reshaping. NumPy is fast which makes it reasonable to work with a large set of data.\n",
        "\n",
        "**There are the following advantages of using NumPy for data analysis.**\n",
        "\n",
        "1)NumPy performs array-oriented computing.\n",
        "\n",
        "2)It efficiently implements the multidimensional arrays.\n",
        "\n",
        "3)It performs scientific computations.\n",
        "\n",
        "4)It is capable of performing Fourier Transform and reshaping the data stored in multidimensional arrays.\n",
        "\n",
        "5)NumPy provides the in-built functions for linear algebra and random number generation."
      ],
      "metadata": {
        "id": "ocpg2auHjUxs"
      }
    },
    {
      "cell_type": "markdown",
      "source": [
        "#NumPy Ndarray\n",
        "\n",
        "Ndarray is the n-dimensional array object defined in the numpy which stores the collection of the similar type of elements. In other words, we can define a ndarray as the collection of the data type (dtype) objects.\n",
        "\n",
        "The ndarray object can be accessed by using the 0 based indexing. Each element of the Array object contains the same size in the memory."
      ],
      "metadata": {
        "id": "vGX4dToljmBb"
      }
    },
    {
      "cell_type": "markdown",
      "source": [
        "#Creating a ndarray object\n",
        "\n",
        "The ndarray object can be created by using the array routine of the numpy module. For this purpose, we need to import the numpy."
      ],
      "metadata": {
        "id": "pUs3SjBtju47"
      }
    },
    {
      "cell_type": "code",
      "source": [
        "import numpy as np\n",
        "a = np.array\n",
        "print(a)"
      ],
      "metadata": {
        "colab": {
          "base_uri": "https://localhost:8080/"
        },
        "id": "VJgVpZ9SkVyj",
        "outputId": "8a98fb93-44f3-46ea-95b1-a2cfb19cf815"
      },
      "execution_count": null,
      "outputs": [
        {
          "output_type": "stream",
          "name": "stdout",
          "text": [
            "<built-in function array>\n"
          ]
        }
      ]
    },
    {
      "cell_type": "code",
      "source": [
        "# To create an array using the list, use the following syntax.\n",
        "a = np.array([1, 2, 3])  \n",
        "a"
      ],
      "metadata": {
        "colab": {
          "base_uri": "https://localhost:8080/"
        },
        "id": "9Lh38u3QkgNk",
        "outputId": "f08a5bf1-87ec-4d1d-9760-3d393e7fcf35"
      },
      "execution_count": null,
      "outputs": [
        {
          "output_type": "execute_result",
          "data": {
            "text/plain": [
              "array([1, 2, 3])"
            ]
          },
          "metadata": {},
          "execution_count": 2
        }
      ]
    },
    {
      "cell_type": "code",
      "source": [
        "a = np.array[1, 2, 3]  \n",
        "a"
      ],
      "metadata": {
        "colab": {
          "base_uri": "https://localhost:8080/",
          "height": 182
        },
        "id": "e7wgzXGVklIO",
        "outputId": "263a2178-58f6-41ba-ecee-8cce5159e695"
      },
      "execution_count": null,
      "outputs": [
        {
          "output_type": "error",
          "ename": "TypeError",
          "evalue": "ignored",
          "traceback": [
            "\u001b[0;31m---------------------------------------------------------------------------\u001b[0m",
            "\u001b[0;31mTypeError\u001b[0m                                 Traceback (most recent call last)",
            "\u001b[0;32m<ipython-input-4-5a166a5aa11c>\u001b[0m in \u001b[0;36m<module>\u001b[0;34m()\u001b[0m\n\u001b[0;32m----> 1\u001b[0;31m \u001b[0ma\u001b[0m \u001b[0;34m=\u001b[0m \u001b[0mnp\u001b[0m\u001b[0;34m.\u001b[0m\u001b[0marray\u001b[0m\u001b[0;34m[\u001b[0m\u001b[0;36m1\u001b[0m\u001b[0;34m,\u001b[0m \u001b[0;36m2\u001b[0m\u001b[0;34m,\u001b[0m \u001b[0;36m3\u001b[0m\u001b[0;34m]\u001b[0m\u001b[0;34m\u001b[0m\u001b[0;34m\u001b[0m\u001b[0m\n\u001b[0m\u001b[1;32m      2\u001b[0m \u001b[0ma\u001b[0m\u001b[0;34m\u001b[0m\u001b[0;34m\u001b[0m\u001b[0m\n",
            "\u001b[0;31mTypeError\u001b[0m: 'builtin_function_or_method' object is not subscriptable"
          ]
        }
      ]
    },
    {
      "cell_type": "code",
      "source": [
        "# To create a multi-dimensional array object, use the following syntax.\n",
        "a = np.array([[1, 2, 3], [4, 5, 6]]) \n",
        "a"
      ],
      "metadata": {
        "colab": {
          "base_uri": "https://localhost:8080/"
        },
        "id": "S1X4aVl_ksv2",
        "outputId": "3646c214-7d48-49b0-b98d-d9b7f212c4b9"
      },
      "execution_count": null,
      "outputs": [
        {
          "output_type": "execute_result",
          "data": {
            "text/plain": [
              "array([[1, 2, 3],\n",
              "       [4, 5, 6]])"
            ]
          },
          "metadata": {},
          "execution_count": 5
        }
      ]
    },
    {
      "cell_type": "code",
      "source": [
        "# To change the data type of the array elements, mention the name of the data type along with the collection.\n",
        "a = np.array([1, 3, 5, 7], complex)  \n",
        "a"
      ],
      "metadata": {
        "colab": {
          "base_uri": "https://localhost:8080/"
        },
        "id": "YjQD68DtkxWG",
        "outputId": "183020df-9573-47b8-8468-eb49ee00b530"
      },
      "execution_count": null,
      "outputs": [
        {
          "output_type": "execute_result",
          "data": {
            "text/plain": [
              "array([1.+0.j, 3.+0.j, 5.+0.j, 7.+0.j])"
            ]
          },
          "metadata": {},
          "execution_count": 6
        }
      ]
    },
    {
      "cell_type": "code",
      "source": [
        "a = np.array([[1, 3, 5, 7],complex,[4,5,6], complex])  \n",
        "a"
      ],
      "metadata": {
        "colab": {
          "base_uri": "https://localhost:8080/"
        },
        "id": "FKWoLu1dk1ix",
        "outputId": "2d32d075-63a9-4574-fa71-c6a6f003c821"
      },
      "execution_count": null,
      "outputs": [
        {
          "output_type": "stream",
          "name": "stderr",
          "text": [
            "/usr/local/lib/python3.7/dist-packages/ipykernel_launcher.py:1: VisibleDeprecationWarning: Creating an ndarray from ragged nested sequences (which is a list-or-tuple of lists-or-tuples-or ndarrays with different lengths or shapes) is deprecated. If you meant to do this, you must specify 'dtype=object' when creating the ndarray.\n",
            "  \"\"\"Entry point for launching an IPython kernel.\n"
          ]
        },
        {
          "output_type": "execute_result",
          "data": {
            "text/plain": [
              "array([list([1, 3, 5, 7]), <class 'complex'>, list([4, 5, 6]),\n",
              "       <class 'complex'>], dtype=object)"
            ]
          },
          "metadata": {},
          "execution_count": 9
        }
      ]
    },
    {
      "cell_type": "markdown",
      "source": [
        "#Finding the dimensions of the Array\n",
        "\n",
        "The ndim function can be used to find the dimensions of the array."
      ],
      "metadata": {
        "id": "G6dmcvxWlZB4"
      }
    },
    {
      "cell_type": "code",
      "source": [
        "import numpy as np  \n",
        "arr = np.array([[1, 2, 3, 4], [4, 5, 6, 7], [9, 10, 11, 23]])  \n",
        "  \n",
        "print(arr.ndim)"
      ],
      "metadata": {
        "colab": {
          "base_uri": "https://localhost:8080/"
        },
        "id": "d9-aHWNMldNY",
        "outputId": "a2030b1a-b3f4-41a4-f739-fa151d032a37"
      },
      "execution_count": null,
      "outputs": [
        {
          "output_type": "stream",
          "name": "stdout",
          "text": [
            "2\n"
          ]
        }
      ]
    },
    {
      "cell_type": "code",
      "source": [
        "arr = np.array([[1, 2, 3, 4], [4, 5, 6, 7], [9, 10, 11, 23]])  \n",
        "arr"
      ],
      "metadata": {
        "colab": {
          "base_uri": "https://localhost:8080/"
        },
        "id": "iwydsqWqlmLs",
        "outputId": "3f1c3302-1b8d-4f1a-df96-ff4ef6264524"
      },
      "execution_count": null,
      "outputs": [
        {
          "output_type": "execute_result",
          "data": {
            "text/plain": [
              "array([[ 1,  2,  3,  4],\n",
              "       [ 4,  5,  6,  7],\n",
              "       [ 9, 10, 11, 23]])"
            ]
          },
          "metadata": {},
          "execution_count": 11
        }
      ]
    },
    {
      "cell_type": "markdown",
      "source": [
        "#Finding the size of each array element\n",
        "\n",
        "The itemsize function is used to get the size of each array item. It returns the number of bytes taken by each array element.\n",
        "\n",
        "Consider the following example."
      ],
      "metadata": {
        "id": "LLqlvX12lrsx"
      }
    },
    {
      "cell_type": "code",
      "source": [
        "#finding the size of each item in the array  \n",
        "import numpy as np  \n",
        "a = np.array([[1,2,3]])  \n",
        "print(\"Each item contains\",a.itemsize,\"bytes\")e"
      ],
      "metadata": {
        "id": "FN3Pwluelwtw"
      },
      "execution_count": null,
      "outputs": []
    }
  ]
}